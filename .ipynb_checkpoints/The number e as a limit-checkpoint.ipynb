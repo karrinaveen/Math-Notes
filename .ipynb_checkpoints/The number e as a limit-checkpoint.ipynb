{
 "cells": [
  {
   "cell_type": "markdown",
   "metadata": {},
   "source": [
    "## To prove limit of e"
   ]
  },
  {
   "cell_type": "markdown",
   "metadata": {},
   "source": [
    "$\n",
    "\\lim_{n \\to \\infty \\\\} (1+\\frac {1}{n})^n = e\n",
    "$"
   ]
  },
  {
   "cell_type": "markdown",
   "metadata": {},
   "source": [
    "### Proof 1"
   ]
  },
  {
   "cell_type": "code",
   "execution_count": 57,
   "metadata": {},
   "outputs": [],
   "source": [
    "import numpy as np\n",
    "import matplotlib.pyplot as plt\n",
    "import matplotlib.patches as patches"
   ]
  },
  {
   "cell_type": "code",
   "execution_count": 58,
   "metadata": {},
   "outputs": [],
   "source": [
    "def powerspace(start,stop,power,n):\n",
    "    start = np.power(start,1/float(power))\n",
    "    stop = np.power(stop,1/float(power))\n",
    "    return np.power( np.linspace(start, stop, num=n), power) "
   ]
  },
  {
   "cell_type": "code",
   "execution_count": 59,
   "metadata": {},
   "outputs": [],
   "source": [
    "x = powerspace(1,10,2,100)\n",
    "y = 1/x"
   ]
  },
  {
   "cell_type": "code",
   "execution_count": 100,
   "metadata": {},
   "outputs": [
    {
     "data": {
      "text/plain": [
       "<matplotlib.patches.Rectangle at 0x1b538835e48>"
      ]
     },
     "execution_count": 100,
     "metadata": {},
     "output_type": "execute_result"
    },
    {
     "data": {
      "image/png": "[encoded data removed]",
      "text/plain": [
       "<Figure size 432x288 with 1 Axes>"
      ]
     },
     "metadata": {
      "needs_background": "light"
     },
     "output_type": "display_data"
    }
   ],
   "source": [
    "fig, ax = plt.subplots(nrows=1, ncols= 1)\n",
    "ax.plot(x,y,label='y=1/x')\n",
    "ax.legend()\n",
    "rectangle1 = patches.Rectangle((4,0.0),2,1/4,\n",
    "                                 ec ='g', fill = False)\n",
    "rectangle2 = patches.Rectangle((6,0.0),-2,1/6,\n",
    "                                 ec ='r', fill = False)\n",
    "ax.add_patch(rectangle1)\n",
    "ax.add_patch(rectangle2)"
   ]
  },
  {
   "cell_type": "markdown",
   "metadata": {},
   "source": [
    "From the above graph we can see that **Area (Red rectangle) < Area under y = 1/x  < Area (Green rectangle)**\n",
    "\n",
    "$ f(x_2)*(x_2-x_1)< \\int\\limits_{x_1}^{x_2} f(x) < f(x_1)*(x_2-x_1) $"
   ]
  },
  {
   "cell_type": "markdown",
   "metadata": {},
   "source": [
    "Drawing the same interpretation for points $ x_1=1 \\ $and$ \\ x_2 = 1+ \\frac{1}{n}$ yields"
   ]
  },
  {
   "cell_type": "markdown",
   "metadata": {},
   "source": [
    "$ \\frac{1}{n}\\frac{n}{n+1}  \\leq  \\int\\limits_{1}^{1+ \\frac{1}{n}}{\\frac{1}{x}}dx  \\leq \\frac{1}{n}\\\\\n",
    "\\\\\n",
    "\\frac {n}{n+1} \\leq n* ln(1+\\frac{1}{n}) \\leq 1 $"
   ]
  },
  {
   "cell_type": "markdown",
   "metadata": {},
   "source": [
    "Let **n ->$\\infty$** and use the fact that taking limits preserves the relation of <="
   ]
  },
  {
   "cell_type": "markdown",
   "metadata": {},
   "source": [
    "$ 1 \\leq lim_{n \\to \\infty \\\\}\\ ln (\\ {(1+\\frac{1}{n})}^{n}) \\leq 1 $"
   ]
  },
  {
   "cell_type": "markdown",
   "metadata": {},
   "source": [
    "As exp function is continous at x =1 , we can raise everything in the inequality above to the power e"
   ]
  },
  {
   "cell_type": "markdown",
   "metadata": {},
   "source": [
    "$ e \\leq lim_{n \\to \\infty \\\\}\\ \\ ({1+\\frac{1}{n}})^{n} \\leq e $"
   ]
  },
  {
   "cell_type": "markdown",
   "metadata": {},
   "source": [
    "$ \n",
    " lim_{n \\to \\infty \\\\} (1+\\frac {1}{n})^n = e \n",
    "$"
   ]
  }
 ],
 "metadata": {
  "kernelspec": {
   "display_name": "Python 3",
   "language": "python",
   "name": "python3"
  },
  "language_info": {
   "codemirror_mode": {
    "name": "ipython",
    "version": 3
   },
   "file_extension": ".py",
   "mimetype": "text/x-python",
   "name": "python",
   "nbconvert_exporter": "python",
   "pygments_lexer": "ipython3",
   "version": "3.8.5"
  }
 },
 "nbformat": 4,
 "nbformat_minor": 4
}
